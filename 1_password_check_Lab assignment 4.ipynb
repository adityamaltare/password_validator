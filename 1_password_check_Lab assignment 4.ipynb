{
 "cells": [
  {
   "cell_type": "markdown",
   "metadata": {},
   "source": [
    "# Program on password checking\n"
   ]
  },
  {
   "cell_type": "code",
   "execution_count": 1,
   "metadata": {},
   "outputs": [
    {
     "name": "stdout",
     "output_type": "stream",
     "text": [
      "username: Aditya\n",
      "total_passwords: 6\n",
      "passwords: AsDs@#123\n",
      "passwords: aDfg\n",
      "passwords: DEfg@#1\n",
      "passwords: 23AsD#@Gf\n",
      "passwords: As#@123dfgef234\n",
      "passwords: KJh#@12gf\n",
      "['AsDs@#123', 'DEfg@#1', '23AsD#@Gf', 'KJh#@12gf']\n"
     ]
    }
   ],
   "source": [
    "'''Q.1 A website requires the users to input username and password to register. Write a program to check the validity of password input by users.\n",
    "Following are the criteria for checking the password:\n",
    "1. At least 1 letter between [a-z]\n",
    "2. At least 1 number between [0-9]\n",
    "1. At least 1 letter between [A-Z]\n",
    "3. At least 1 character from [$#@]\n",
    "4. Minimum length of transaction password: 6\n",
    "5. Maximum length of transaction password: 12\n",
    "Your program should accept a sequence of comma separated passwords and will check them according to the above criteria. Passwords that match the criteria are to be printed, each separated by a comma.'''\n",
    "\n",
    "\n",
    "Username=input(\"username: \")\n",
    "N=int(input(\"total_passwords: \"))\n",
    "listt=[]\n",
    "correct_pass=[]\n",
    "ctr=1\n",
    "upper=0\n",
    "lower=0\n",
    "digit=0\n",
    "special=0\n",
    "while ctr<=N:\n",
    "    Passwords=input(\"passwords: \")\n",
    "    ctr+=1\n",
    "    listt.append(Passwords)\n",
    "for x in listt:\n",
    "    if len(x)>=6 and len(x)<=12:\n",
    "        for i in x: \n",
    "            if i.isupper():\n",
    "                upper+=1\n",
    "            elif i.islower():\n",
    "                lower+=1   \n",
    "            elif i.isdigit():\n",
    "                digit+=1\n",
    "            elif i==\"$\" or i==\"#\" or i==\"@\":\n",
    "                special+=1\n",
    "        if (upper>0) and (lower>0) and (digit>0) and (special>0):\n",
    "            correct_pass.append(x)\n",
    "print(correct_pass)\n",
    "if correct_pass==\" \":\n",
    "    print(\"Please enter valid passwords\")\n",
    "              "
   ]
  },
  {
   "cell_type": "code",
   "execution_count": null,
   "metadata": {},
   "outputs": [],
   "source": []
  }
 ],
 "metadata": {
  "kernelspec": {
   "display_name": "Python 3",
   "language": "python",
   "name": "python3"
  },
  "language_info": {
   "codemirror_mode": {
    "name": "ipython",
    "version": 3
   },
   "file_extension": ".py",
   "mimetype": "text/x-python",
   "name": "python",
   "nbconvert_exporter": "python",
   "pygments_lexer": "ipython3",
   "version": "3.8.3"
  }
 },
 "nbformat": 4,
 "nbformat_minor": 4
}
